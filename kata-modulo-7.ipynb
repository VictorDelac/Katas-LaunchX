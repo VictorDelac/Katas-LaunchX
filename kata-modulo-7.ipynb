{
 "cells": [
  {
   "cell_type": "markdown",
   "metadata": {},
   "source": [
    "# Kata modulo 7\n",
    "Estructuras de control"
   ]
  },
  {
   "cell_type": "markdown",
   "metadata": {},
   "source": [
    "## Ejercicio 1: Creación de un bucle \"while\""
   ]
  },
  {
   "cell_type": "code",
   "execution_count": 5,
   "metadata": {},
   "outputs": [],
   "source": [
    "# Comienza agregando dos variables, una para la entrada del usuario, con el nombre new_planet,\n",
    "# y otra variable para la lista de planetas, denominada planets.\n",
    "\n",
    "# Declara dos variables\n",
    "\n",
    "new_planet = ''\n",
    "planets = []\n",
    "\n",
    "# Comenzando con las variables que acabas de crear, crearás un ciclo while.\n",
    "# El ciclo while se ejecutará mientras el new_planet no sea igual a la palabra 'done'.\n",
    "\n",
    "# Dentro del ciclo, comprobarás si la variable new_planet contiene un valor, que debería ser el nombre de un planeta.\n",
    "# Esta es una forma rápida de ver si el usuario ha introducido un valor. \n",
    "# Si lo han hecho, tu código agregará (append) ese valor a la variable planets.\n",
    "\n",
    "# Finalmente, usarás input para solicitar al usuario que ingrese un nuevo nombre de planeta o\n",
    "# que escriba done si ha terminado de ingresar nombres de planeta. \n",
    "# Almacenará el valor de input en la variable new_planet.\n",
    "\n",
    "# Escribe el ciclo while solicitado\n",
    "\n",
    "while new_planet != 'done' :\n",
    "    if new_planet:\n",
    "        planets.append(new_planet)\n",
    "    new_planet = input(\"Escribe el nombre de un planeta o escribe done para terminar\")\n",
    "\n"
   ]
  },
  {
   "cell_type": "markdown",
   "metadata": {},
   "source": [
    "## Ejercicio 2: Creación de un ciclo \"for\""
   ]
  },
  {
   "cell_type": "code",
   "execution_count": 7,
   "metadata": {},
   "outputs": [
    {
     "name": "stdout",
     "output_type": "stream",
     "text": [
      "mercurio\n",
      "venus\n",
      "tierra\n"
     ]
    }
   ],
   "source": [
    "new_planet = ''\n",
    "planets = []\n",
    "\n",
    "while new_planet != 'done' :\n",
    "    if new_planet:\n",
    "        planets.append(new_planet)\n",
    "    new_planet = input(\"Escribe el nombre de un planeta o escribe done para terminar\")\n",
    "\n",
    "# En el ejercicio anterior, creaste código para solicitar a los usuarios que introduzcan\n",
    "# una lista de nombres de planetas. En este ejercicio, completarás la aplicación escribiendo\n",
    "# código que muestre los nombres de esos planetas.\n",
    "\n",
    "# Crea un ciclo for para iterar sobre la lista planets. Puedes usar como nombre de la variable planet para cada planeta.\n",
    "# Dentro del ciclo for, recuerda utilizar print para mostrar cada planet.\n",
    "\n",
    "# Escribe tu ciclo for para iterar en una lista de planetas\n",
    "\n",
    "for planet in planets :\n",
    "    print (planet)\n"
   ]
  }
 ],
 "metadata": {
  "interpreter": {
   "hash": "ac59ebe37160ed0dfa835113d9b8498d9f09ceb179beaac4002f036b9467c963"
  },
  "kernelspec": {
   "display_name": "Python 3.9.10 64-bit",
   "language": "python",
   "name": "python3"
  },
  "language_info": {
   "codemirror_mode": {
    "name": "ipython",
    "version": 3
   },
   "file_extension": ".py",
   "mimetype": "text/x-python",
   "name": "python",
   "nbconvert_exporter": "python",
   "pygments_lexer": "ipython3",
   "version": "3.9.10"
  },
  "orig_nbformat": 4
 },
 "nbformat": 4,
 "nbformat_minor": 2
}
