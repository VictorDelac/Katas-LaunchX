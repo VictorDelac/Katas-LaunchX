{
 "cells": [
  {
   "cell_type": "markdown",
   "metadata": {},
   "source": [
    "# Kata Modulo 5"
   ]
  },
  {
   "cell_type": "markdown",
   "metadata": {},
   "source": [
    "## Ejercicio1\n",
    "Utilizar operadores aritméticos"
   ]
  },
  {
   "cell_type": "code",
   "execution_count": 4,
   "metadata": {},
   "outputs": [
    {
     "name": "stdout",
     "output_type": "stream",
     "text": [
      "628949330\n",
      "390577534\n"
     ]
    }
   ],
   "source": [
    "# Exploremos cómo podemos crear un programa que pueda calcular la distancia entre dos planetas. \n",
    "# Comenzaremos usando dos distancias de planetas: Tierra (149.597.870 km) y Júpiter (778.547.200 km).\n",
    "\n",
    "#TIP Dedica unos minutos a tratar de encontrar una solución. \n",
    "# Luego desplázate hacia abajo hasta la parte inferior para ver si has logrado compilar el programa\n",
    "# de acuerdo con las especificaciones.\n",
    "\n",
    "# Nota: Quita las comas cuando uses los valores.\n",
    "\n",
    "# Crear variables para almacenar las dos distancias\n",
    "# ¡Asegúrate de quitar las comas!\n",
    "\n",
    "dist_Tierra = 149597870\n",
    "dist_Jupiter = 778547200\n",
    "\n",
    "\n",
    "# Calcular la distancia entre planetas\n",
    "\n",
    "distancia = abs(dist_Tierra - dist_Jupiter)\n",
    "millas = distancia * 0.621\n",
    "print (distancia)\n",
    "print (round(millas))"
   ]
  },
  {
   "cell_type": "markdown",
   "metadata": {},
   "source": [
    "## Ejercicio 2\n",
    "convierte cadenas en números y usa valores absolutos"
   ]
  },
  {
   "cell_type": "code",
   "execution_count": 8,
   "metadata": {},
   "outputs": [
    {
     "name": "stdout",
     "output_type": "stream",
     "text": [
      "789456\n",
      "987654\n"
     ]
    }
   ],
   "source": [
    "# Usando input, agrega el código para leer la distancia del sol para cada planeta, considerando 2 planetas.\n",
    "\n",
    "# Almacenar las entradas del usuario\n",
    "#Pista: variable = input(\"¿Cuál es tu nombre?\")\n",
    "\n",
    "dist_sol_tierra = input (\"Cual es la distancia del sol a la tierra:\")\n",
    "dist_sol_jupiter = input (\"Cual es la distancia del sol a jupiter:\")\n",
    "\n",
    "\n",
    "# Convierte las cadenas de ambos planetas a números enteros\n",
    "\n",
    "print (int(dist_sol_jupiter))\n",
    "print (int(dist_sol_tierra))\n"
   ]
  },
  {
   "cell_type": "code",
   "execution_count": 10,
   "metadata": {},
   "outputs": [
    {
     "name": "stdout",
     "output_type": "stream",
     "text": [
      "332667\n",
      "206586\n"
     ]
    }
   ],
   "source": [
    "dist_sol_tierra = input (\"Cual es la distancia del sol a la tierra:\")\n",
    "dist_sol_jupiter = input (\"Cual es la distancia del sol a jupiter:\")\n",
    "\n",
    "# Realizar el cálculo y determinar el valor absoluto\n",
    "# Convertir de KM a Millas\n",
    "\n",
    "distanciasol = abs(int(dist_sol_tierra) - int(dist_sol_jupiter))\n",
    "millassol = distanciasol * 0.621\n",
    "print (distanciasol)\n",
    "print (round(millassol))\n",
    "\n"
   ]
  },
  {
   "cell_type": "markdown",
   "metadata": {},
   "source": [
    "## Prueba tu aplicación"
   ]
  },
  {
   "cell_type": "code",
   "execution_count": 11,
   "metadata": {},
   "outputs": [
    {
     "name": "stdout",
     "output_type": "stream",
     "text": [
      "50300000\n",
      "31236300\n"
     ]
    }
   ],
   "source": [
    "# Para probar el proyecto, ejecuta tu notebook. \n",
    "# En la parte superior de vscode surgirá un cuadro de diálogo para que proporciones las distancias. \n",
    "# Puede utilizar los datos de la tabla siguiente:\n",
    "\n",
    "# Planeta \tDistancia al sol\n",
    "# Mercurio \t57900000\n",
    "# Venus \t108200000\n",
    "# Tierra \t149600000\n",
    "# Marte \t227900000\n",
    "# Júpiter \t778600000\n",
    "# Saturno \t1433500000\n",
    "# Urano \t2872500000\n",
    "# Neptuno \t4495100000\n",
    "\n",
    "dist_sol_p1 = input (\"Cual es la distancia del sol al planeta 1:\")\n",
    "dist_sol_p2 = input (\"Cual es la distancia del sol al planeta 2:\")\n",
    "\n",
    "# Realizar el cálculo y determinar el valor absoluto\n",
    "# Convertir de KM a Millas\n",
    "\n",
    "distanciasol = abs(int(dist_sol_p1) - int(dist_sol_p2))\n",
    "millassol = distanciasol * 0.621\n",
    "print (distanciasol)\n",
    "print (round(millassol))"
   ]
  }
 ],
 "metadata": {
  "interpreter": {
   "hash": "ac59ebe37160ed0dfa835113d9b8498d9f09ceb179beaac4002f036b9467c963"
  },
  "kernelspec": {
   "display_name": "Python 3.9.10 64-bit",
   "language": "python",
   "name": "python3"
  },
  "language_info": {
   "codemirror_mode": {
    "name": "ipython",
    "version": 3
   },
   "file_extension": ".py",
   "mimetype": "text/x-python",
   "name": "python",
   "nbconvert_exporter": "python",
   "pygments_lexer": "ipython3",
   "version": "3.9.10"
  },
  "orig_nbformat": 4
 },
 "nbformat": 4,
 "nbformat_minor": 2
}
