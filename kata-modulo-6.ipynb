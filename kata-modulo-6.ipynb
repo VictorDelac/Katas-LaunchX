{
 "cells": [
  {
   "cell_type": "markdown",
   "metadata": {},
   "source": [
    "# Kata modulo 6 : Listas"
   ]
  },
  {
   "cell_type": "markdown",
   "metadata": {},
   "source": [
    "## Ejercicio 1: Crear y usar listas de Python"
   ]
  },
  {
   "cell_type": "code",
   "execution_count": 18,
   "metadata": {},
   "outputs": [
    {
     "name": "stdout",
     "output_type": "stream",
     "text": [
      "Hay 8 planetas\n",
      "El ultimo planeta es : pluton\n"
     ]
    }
   ],
   "source": [
    "# En primer lugar, crea una variable denominada planets. \n",
    "# Agrega los ocho planetas (sin Plutón) a la lista. A continuación, muestra el número de planetas.\n",
    "\n",
    "# Creamos la lista planets y la mostramos\n",
    "\n",
    "planetas = [\"mercurio\",\"venus\",\"tierra\",\"marte\",\"jupiter\",\"saturno\",\"urano\",\"neptuno\"]\n",
    "print (\"Hay\" ,len(planetas), 'planetas')\n",
    "\n",
    "\n",
    "# Agregamos a plutón y mostramos el último elemento\n",
    "planetas.append('pluton')\n",
    "print (\"El ultimo planeta es :\" , planetas[-1])\n",
    "\n",
    "\n"
   ]
  },
  {
   "cell_type": "markdown",
   "metadata": {},
   "source": [
    "## Ejercicio 2: Trabajando con datos de una lista"
   ]
  },
  {
   "cell_type": "code",
   "execution_count": 17,
   "metadata": {},
   "outputs": [
    {
     "name": "stdout",
     "output_type": "stream",
     "text": [
      "El planeta esta en la posicion 3 de la lista\n",
      "Los planetas mas cercanos al sol son : ['Mercury', 'Venus']\n",
      "Los planetas mas lejanos al sol son : ['Mars', 'Jupiter', 'Saturn', 'Neptune']\n"
     ]
    }
   ],
   "source": [
    "# En nuestro ejemplo, queremos mostrar planetas más cerca y más lejos del sol de un planeta que el usuario ingresa por teclado.\n",
    "# Comienza agregando el código para crear una lista con los planetas.\n",
    "\n",
    "# Lista de planetas\n",
    "planets = ['Mercury', 'Venus', 'Earth', 'Mars', 'Jupiter', 'Saturn', 'Neptune']\n",
    "\n",
    " # Solicitamos el nombre de un planeta *Pista:  input()*\n",
    "\n",
    "planeta = input(\"Ingresa el nombre de un planeta :\")\n",
    "\n",
    "# Busca el planeta en la lista\n",
    "buscar_planeta = planets.index(planeta)\n",
    "print('El planeta esta en la posicion', buscar_planeta + 1, 'de la lista')\n",
    "\n",
    "\n",
    "# Muestra los planetas más cercanos al sol\n",
    "\n",
    "cercanos = planets[0:buscar_planeta]\n",
    "print ('Los planetas mas cercanos al sol son :', cercanos)\n",
    "\n",
    "# Muestra los planetas más lejanos al sol\n",
    "\n",
    "lejanos = planets[buscar_planeta+1:]\n",
    "print ('Los planetas mas lejanos al sol son :', lejanos)"
   ]
  }
 ],
 "metadata": {
  "interpreter": {
   "hash": "ac59ebe37160ed0dfa835113d9b8498d9f09ceb179beaac4002f036b9467c963"
  },
  "kernelspec": {
   "display_name": "Python 3.9.10 64-bit",
   "language": "python",
   "name": "python3"
  },
  "language_info": {
   "codemirror_mode": {
    "name": "ipython",
    "version": 3
   },
   "file_extension": ".py",
   "mimetype": "text/x-python",
   "name": "python",
   "nbconvert_exporter": "python",
   "pygments_lexer": "ipython3",
   "version": "3.9.10"
  },
  "orig_nbformat": 4
 },
 "nbformat": 4,
 "nbformat_minor": 2
}
