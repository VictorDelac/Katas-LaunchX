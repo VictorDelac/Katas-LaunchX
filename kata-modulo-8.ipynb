{
 "cells": [
  {
   "cell_type": "markdown",
   "metadata": {},
   "source": [
    "# Kata modulo 8"
   ]
  },
  {
   "cell_type": "markdown",
   "metadata": {},
   "source": [
    "## Ejercicio 1: Creación de diccionarios de Python"
   ]
  },
  {
   "cell_type": "code",
   "execution_count": 28,
   "metadata": {},
   "outputs": [
    {
     "name": "stdout",
     "output_type": "stream",
     "text": [
      "El planeta Mars tiene 2 lunas\n",
      "Circunferencia polar de Mars = 6752\n"
     ]
    }
   ],
   "source": [
    "# Para este ejercicio, crearás un diccionario que almacene información sobre el planeta Marte.\n",
    "\n",
    "#    TIP Dedica unos minutos para tratar de encontrar una solución. \n",
    "# Luego desplázate hacia abajo hasta la parte inferior para ver si has logrado # compilar el programa de acuerdo con las especificaciones\n",
    "\n",
    "# Agrega el código para crear un nuevo diccionario denominado 'planet'. Rellena con la siguiente información:\n",
    "# name: Mars\n",
    "# moons: 2\n",
    "\n",
    "# Crea un diccionario llamado planet con los datos propuestos\n",
    "planet = {\n",
    "    'name' : 'Mars',\n",
    "    'moons' : 2\n",
    "}\n",
    "\n",
    "# Muestra el nombre del planeta y el número de lunas que tiene.\n",
    "print(\"El planeta\" , planet.get('name'), \"tiene\" , planet.get('moons'), \"lunas\")\n",
    "\n",
    "# Agrega un nuevo valor con una clave de 'circunferencia (km)'. \n",
    "# Este nuevo valor debería almacenar un diccionario con las dos circunferencias del planeta:\n",
    "# polar: 6752\n",
    "# equatorial: 6792\n",
    "\n",
    "# Agrega la clave circunferencia con los datos proporcionados previamente\n",
    "planet['circunferencia (km)'] = {\n",
    "    'polar' : 6752 ,\n",
    "    'equatorial' : 6792\n",
    "}\n",
    "\n",
    "# Imprime el nombre del planeta con su circunferencia polar.\n",
    "print(\"Circunferencia polar de\", planet.get('name'), \"=\" , planet.get('circunferencia (km)') ['polar'])\n",
    "# print(f'{planet['name']} polar diameter: {planet['diameter (km)']['polar']}')\n",
    "\n"
   ]
  },
  {
   "cell_type": "markdown",
   "metadata": {},
   "source": [
    "## Ejercicio 2: Programación dinámica con diccionarios"
   ]
  },
  {
   "cell_type": "code",
   "execution_count": 73,
   "metadata": {},
   "outputs": [
    {
     "name": "stdout",
     "output_type": "stream",
     "text": [
      "214\n",
      "12\n",
      "El promedio de lunas por planeta es: 17.833333333333332\n"
     ]
    }
   ],
   "source": [
    "# En este escenario, calcularás tanto el número total de lunas en el sistema solar \n",
    "# como el número promedio de lunas que tiene un planeta.\n",
    "\n",
    "# Planets and moons\n",
    "\n",
    "planet_moons = {\n",
    "    'mercury': 0,\n",
    "    'venus': 0,\n",
    "    'earth': 1,\n",
    "    'mars': 2,\n",
    "    'jupiter': 79,\n",
    "    'saturn': 82,\n",
    "    'uranus': 27,\n",
    "    'neptune': 14,\n",
    "    'pluto': 5,\n",
    "    'haumea': 2,\n",
    "    'makemake': 1,\n",
    "    'eris': 1\n",
    "}\n",
    "\n",
    "# Agrega el código a continuación para determinar el número de lunas. \n",
    "# Comienza almacenando el valor values de planet_moons en una variable denominada moons. \n",
    "\n",
    "moons = 0\n",
    "\n",
    "for value in planet_moons.values() :\n",
    "    moons = moons + value\n",
    "print (moons)\n",
    "\n",
    "# A continuación, almacena el número de planetas en una variable denominada planets.\n",
    "\n",
    "planets = len(planet_moons)\n",
    "print (planets)\n",
    "\n",
    "# Finalmente calcule el promedio\n",
    "\n",
    "promedio = moons / planets\n",
    "print (\"El promedio de lunas por planeta es:\",promedio)\n",
    "\n",
    "\n",
    "\n"
   ]
  }
 ],
 "metadata": {
  "interpreter": {
   "hash": "ac59ebe37160ed0dfa835113d9b8498d9f09ceb179beaac4002f036b9467c963"
  },
  "kernelspec": {
   "display_name": "Python 3.9.10 64-bit",
   "language": "python",
   "name": "python3"
  },
  "language_info": {
   "codemirror_mode": {
    "name": "ipython",
    "version": 3
   },
   "file_extension": ".py",
   "mimetype": "text/x-python",
   "name": "python",
   "nbconvert_exporter": "python",
   "pygments_lexer": "ipython3",
   "version": "3.9.10"
  },
  "orig_nbformat": 4
 },
 "nbformat": 4,
 "nbformat_minor": 2
}
