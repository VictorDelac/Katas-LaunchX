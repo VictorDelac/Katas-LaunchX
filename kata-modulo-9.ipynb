{
 "cells": [
  {
   "cell_type": "markdown",
   "metadata": {},
   "source": [
    "# Kata Modulo 9"
   ]
  },
  {
   "cell_type": "markdown",
   "metadata": {},
   "source": [
    "# Ejercicio 1: Trabajar con argumentos en funciones"
   ]
  },
  {
   "cell_type": "code",
   "execution_count": 71,
   "metadata": {},
   "outputs": [
    {
     "name": "stdout",
     "output_type": "stream",
     "text": [
      "Promedio de combustible: 6.0\n"
     ]
    }
   ],
   "source": [
    "# En este ejercicio, construirás un informe de combustible que requiere información de \n",
    "# varias ubicaciones de combustible en todo el cohete.\n",
    "\n",
    "# Comienza por crear una función que necesite tres lecturas de combustible y devuelva un informe:\n",
    "\n",
    "# Función para leer 3 tanques de combustible y muestre el promedio\n",
    "\n",
    "def tanques_combustible(tanque1, tanque2, tanque3):\n",
    "    promedio = (tanque1 + tanque2 + tanque3) / 3\n",
    "    return f\"\"\"Promedio de combustible: {promedio}\"\"\"\n",
    "\n",
    "\n",
    "# Llamamos a la función que genera el reporte \n",
    " \n",
    "print(tanques_combustible(4, 6, 8))\n"
   ]
  },
  {
   "cell_type": "code",
   "execution_count": 77,
   "metadata": {},
   "outputs": [
    {
     "name": "stdout",
     "output_type": "stream",
     "text": [
      "Promedio de combustible: 6.0\n"
     ]
    }
   ],
   "source": [
    "# Función promedio \n",
    "\n",
    "def promedio(tanques) :\n",
    "    prom = sum(tanques) / len(tanques)\n",
    "    return prom\n",
    "\n",
    "promedio([4,8,6])\n",
    "\n",
    "\n",
    " # Actualiza la función\n",
    "\n",
    "def tanques_combustible(tanque1, tanque2, tanque3):\n",
    "    return f\"\"\"Promedio de combustible: {promedio([tanque1, tanque2, tanque3])}\"\"\"\n",
    "\n",
    "print(tanques_combustible(4, 6, 8))\n",
    " "
   ]
  },
  {
   "cell_type": "markdown",
   "metadata": {},
   "source": [
    "## Ejercicio 2 Trabajar con argumentos de palabras clave en funciones"
   ]
  },
  {
   "cell_type": "code",
   "execution_count": 81,
   "metadata": {},
   "outputs": [
    {
     "name": "stdout",
     "output_type": "stream",
     "text": [
      "Informe de la mision\n",
      "    Hora de prelanzamiento: 3\n",
      "    Destino: Luna\n",
      "    Tiempo de vuelo: 51 horas\n",
      "    Tanque externo: 100 litros\n",
      "    Tanque interno: 200 litros \n"
     ]
    }
   ],
   "source": [
    "# Función con un informe preciso de la misión. \n",
    "# Considera hora de prelanzamiento, tiempo de vuelo, destino, tanque externo y tanque interno.\n",
    "\n",
    "def informe_mision(hora_pre, tiempo_vuelo, destino, tanque_ext, tanque_inter):\n",
    "    return f\"\"\"Informe de la mision\n",
    "    Hora de prelanzamiento: {hora_pre}\n",
    "    Destino: {destino}\n",
    "    Tiempo de vuelo: {tiempo_vuelo} horas\n",
    "    Tanque externo: {tanque_ext} litros\n",
    "    Tanque interno: {tanque_inter} litros \"\"\"\n",
    "\n",
    "print(informe_mision(3, 51, \"Luna\", 100, 200))"
   ]
  },
  {
   "cell_type": "code",
   "execution_count": 86,
   "metadata": {},
   "outputs": [
    {
     "name": "stdout",
     "output_type": "stream",
     "text": [
      "Informe de la mision\n",
      "    Destino: Luna\n",
      "    Tiempo de vuelo: 51 minutos (0.85 horas)\n",
      "    Total combustible: 300 litros\n",
      "    \n"
     ]
    }
   ],
   "source": [
    "# Escribe tu nueva función de reporte considerando lo anterior\n",
    "\n",
    "def informe_mision(destino, *minutos, **tanques):\n",
    "    return f\"\"\"Informe de la mision\n",
    "    Destino: {destino}\n",
    "    Tiempo de vuelo: {sum(minutos)} minutos ({sum(minutos)/60} horas)\n",
    "    Total combustible: {sum(tanques.values())} litros\n",
    "    \"\"\"\n",
    "\n",
    "print(informe_mision(\"Luna\", 40, 11, tanque1=100, tanque2=200))\n"
   ]
  },
  {
   "cell_type": "code",
   "execution_count": 129,
   "metadata": {},
   "outputs": [
    {
     "name": "stdout",
     "output_type": "stream",
     "text": [
      "Informe de la mision\n",
      "    Destino: Luna\n",
      "    Tiempo de vuelo: 51 minutos (0.85 horas)\n",
      "    Total combustible: 300 litros\n",
      "    tanque1 : 100 litros\n",
      "tanque2 : 200 litros\n",
      "\n"
     ]
    }
   ],
   "source": [
    "# Debido a que el combustible que queda en los tanques es específico de cada tanque,\n",
    "# actualiza la función para usar el nombre de cada tanque en el informe:\n",
    "\n",
    "# Escribe tu nueva función\n",
    "\n",
    "def informe_mision(destino, *minutos, **tanques):\n",
    "    combustible = ''\n",
    "    for tanque, litros in tanques.items():\n",
    "        combustible += f\"{tanque} : {litros} litros\\n\"\n",
    "    return f\"\"\"Informe de la mision\n",
    "    Destino: {destino}\n",
    "    Tiempo de vuelo: {sum(minutos)} minutos ({sum(minutos)/60} horas)\n",
    "    Total combustible: {sum(tanques.values())} litros\n",
    "    {combustible}\"\"\"\n",
    "\n",
    "print(informe_mision(\"Luna\", 40, 11, tanque1=100, tanque2=200))\n"
   ]
  }
 ],
 "metadata": {
  "interpreter": {
   "hash": "ac59ebe37160ed0dfa835113d9b8498d9f09ceb179beaac4002f036b9467c963"
  },
  "kernelspec": {
   "display_name": "Python 3.9.10 64-bit",
   "language": "python",
   "name": "python3"
  },
  "language_info": {
   "codemirror_mode": {
    "name": "ipython",
    "version": 3
   },
   "file_extension": ".py",
   "mimetype": "text/x-python",
   "name": "python",
   "nbconvert_exporter": "python",
   "pygments_lexer": "ipython3",
   "version": "3.9.10"
  },
  "orig_nbformat": 4
 },
 "nbformat": 4,
 "nbformat_minor": 2
}
