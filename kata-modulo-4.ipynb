{
 "cells": [
  {
   "cell_type": "markdown",
   "metadata": {},
   "source": [
    "# Kata Modulo 4"
   ]
  },
  {
   "cell_type": "markdown",
   "metadata": {},
   "source": [
    "## Ejercicio 1: Transformar cadenas\n",
    "\n",
    "El texto con el que trabajarás es el siguiente:\n",
    "\n",
    "text = \"\"\"Interesting facts about the Moon. The Moon is Earth's only satellite. There are several interesting facts about the Moon and how it affects life here on Earth. \n",
    "On average, the Moon moves 4cm away from the Earth every year. This yearly drift is not significant enough to cause immediate effects on Earth. The highest daylight temperature of the Moon is 127 C.\"\"\""
   ]
  },
  {
   "cell_type": "code",
   "execution_count": 3,
   "metadata": {},
   "outputs": [
    {
     "data": {
      "text/plain": [
       "['Interesting facts about the Moon',\n",
       " \" The Moon is Earth's only satellite\",\n",
       " ' There are several interesting facts about the Moon and how it affects life here on Earth',\n",
       " ' \\nOn average, the Moon moves 4cm away from the Earth every year',\n",
       " ' This yearly drift is not significant enough to cause immediate effects on Earth',\n",
       " ' The highest daylight temperature of the Moon is 127 C',\n",
       " '']"
      ]
     },
     "execution_count": 3,
     "metadata": {},
     "output_type": "execute_result"
    }
   ],
   "source": [
    "# Primero, divide el texto en cada oración para trabajar con su contenido:\n",
    "\n",
    "# Añade el código necesario\n",
    "\n",
    "text = \"\"\"Interesting facts about the Moon. The Moon is Earth's only satellite. There are several interesting facts about the Moon and how it affects life here on Earth. \n",
    "On average, the Moon moves 4cm away from the Earth every year. This yearly drift is not significant enough to cause immediate effects on Earth. The highest daylight temperature of the Moon is 127 C.\"\"\"\n",
    "\n",
    "text.split('.')\n"
   ]
  },
  {
   "cell_type": "code",
   "execution_count": 11,
   "metadata": {},
   "outputs": [
    {
     "data": {
      "text/plain": [
       "True"
      ]
     },
     "execution_count": 11,
     "metadata": {},
     "output_type": "execute_result"
    }
   ],
   "source": [
    "# Ahora, define algunas palabras clave para búsqueda que te ayudarán a determinar si una oración contiene un hecho.\n",
    "# Define las palabras pista: average, temperature y distance suenan bien\n",
    "\n",
    "text = \"\"\"Interesting facts about the Moon. The Moon is Earth's only satellite. There are several interesting facts about the Moon and how it affects life here on Earth. \n",
    "On average, the Moon moves 4cm away from the Earth every year. This yearly drift is not significant enough to cause immediate effects on Earth. The highest daylight temperature of the Moon is 127 C.\"\"\"\n",
    "\n",
    "pista1 = 'average'\n",
    "pista2 = 'temperature'\n",
    "pista3 = 'distance'\n",
    "\n",
    "pista1 in text\n"
   ]
  },
  {
   "cell_type": "code",
   "execution_count": 25,
   "metadata": {},
   "outputs": [
    {
     "name": "stdout",
     "output_type": "stream",
     "text": [
      "Pista encontrada :  \n",
      "On average, the Moon moves 4cm away from the Earth every year\n",
      "Pista encontrada :  The highest daylight temperature of the Moon is 127 C\n"
     ]
    }
   ],
   "source": [
    "# Crea un bucle para imprimir solo datos sobre la Luna que estén relacionados con las palabras clave definidas anteriormente:\n",
    "\n",
    "# Ciclo for para recorrer la cadena\n",
    "\n",
    "text = \"\"\"Interesting facts about the Moon. The Moon is Earth's only satellite. There are several interesting facts about the Moon and how it affects life here on Earth. \n",
    "On average, the Moon moves 4cm away from the Earth every year. This yearly drift is not significant enough to cause immediate effects on Earth. The highest daylight temperature of the Moon is 127 C.\"\"\"\n",
    "\n",
    "pista1 = 'average'\n",
    "pista2 = 'temperature'\n",
    "pista3 = 'distance'\n",
    "\n",
    "for pista in text.split('.') :\n",
    "    if pista1 in pista :\n",
    "        print('Pista encontrada : ' + pista)\n",
    "    elif pista2 in pista :\n",
    "        print('Pista encontrada : ' + pista)\n",
    "    elif pista3 in pista :\n",
    "        print('Pista encontrada : ' + pista)\n"
   ]
  },
  {
   "cell_type": "code",
   "execution_count": 26,
   "metadata": {},
   "outputs": [
    {
     "name": "stdout",
     "output_type": "stream",
     "text": [
      "Pista encontrada :  \n",
      "On average, the Moon moves 4cm away from the Earth every year\n",
      "Pista encontrada :  The highest daylight temperature of the Moon is 127 C\n"
     ]
    }
   ],
   "source": [
    "# Finalmente, actualiza el bucle(ciclo) para cambiar C a Celsius:\n",
    "\n",
    "# Ciclo para cambiar C a Celsius\n",
    "\n",
    "text = \"\"\"Interesting facts about the Moon. The Moon is Earth's only satellite. There are several interesting facts about the Moon and how it affects life here on Earth. \n",
    "On average, the Moon moves 4cm away from the Earth every year. This yearly drift is not significant enough to cause immediate effects on Earth. The highest daylight temperature of the Moon is 127 C.\"\"\"\n",
    "\n",
    "pista1 = 'average'\n",
    "pista2 = 'temperature'\n",
    "pista3 = 'distance'\n",
    "\n",
    "text.replace('Celsius', 'C')\n",
    "for pista in text.split('.') :\n",
    "    if pista1 in pista :\n",
    "        print('Pista encontrada : ' + pista)\n",
    "    elif pista2 in pista :\n",
    "        print('Pista encontrada : ' + pista)\n",
    "    elif pista3 in pista :\n",
    "        print('Pista encontrada : ' + pista)"
   ]
  },
  {
   "cell_type": "markdown",
   "metadata": {},
   "source": [
    "## Ejercicio 2: Formateando Cadenas"
   ]
  },
  {
   "cell_type": "code",
   "execution_count": 22,
   "metadata": {},
   "outputs": [
    {
     "name": "stdout",
     "output_type": "stream",
     "text": [
      "Gravity Facts about Earth & the Moon\n"
     ]
    }
   ],
   "source": [
    "# En lugar de reemplazar las variables en una cadena larga como parte de un párrafo, \n",
    "# utiliza la información para presentarla en un formato tabular. El resultado debería verse así:\n",
    "\n",
    "# Gravity Facts about Ganymede\n",
    "# -------------------------------------------------------------------------------\n",
    "# Planet Name: Mars\n",
    "# Gravity on Ganymede: 1.4300000000000002 m/s2\n",
    "\n",
    "# Datos con los que vas a trabajar\n",
    "name = \"Moon\"\n",
    "gravity = 0.00162 # in kms\n",
    "planet = \"Earth\"\n",
    "\n",
    "\n",
    "# Primero, crea un título para el texto. Debido a que este texto trata sobre la gravedad en la Tierra y la Luna, \n",
    "# úsalo para crear un título significativo. Utiliza las variables en lugar de escribir.\n",
    "\n",
    "# Creamos el título\n",
    "titulo = \"gravity facts about {0} & the {1}\".format(planet, name)\n",
    "\n",
    "print(titulo)\n"
   ]
  },
  {
   "cell_type": "code",
   "execution_count": 35,
   "metadata": {},
   "outputs": [
    {
     "name": "stdout",
     "output_type": "stream",
     "text": [
      "Gravity Facts About Earth & The Moon\n",
      " --------------------\n",
      "Planet Name : Earth\n",
      "Gravity on Moon: 1.6199999999999999 m/s2\n",
      "\n",
      "\n"
     ]
    }
   ],
   "source": [
    "# Ahora crea una plantilla de cadena multilínea para contener el resto de la información.\n",
    "# En lugar de usar kilómetros, debes convertir la distancia a metros multiplicando por 1,000.\n",
    "\n",
    "# Creamos la plantilla\n",
    "name = \"Moon\"\n",
    "gravity = 0.00162 # in kms\n",
    "planet = \"Earth\"\n",
    "titulo = \"gravity facts about {0} & the {1}\".format(planet, name)\n",
    "\n",
    "sep = f\"\"\" --------------------\n",
    "Planet Name : {planet}\n",
    "Gravity on {name}: {gravity * 1000} m/s2\n",
    "\"\"\"\n",
    "\n",
    "# Finalmente, usa ambas variables para unir el título y los hechos.\n",
    "# Unión de ambas cadenas\n",
    "\n",
    "union = f\"\"\"{titulo.title()}\\n{sep}\n",
    "\"\"\"\n",
    "print (union)"
   ]
  },
  {
   "cell_type": "code",
   "execution_count": 41,
   "metadata": {},
   "outputs": [
    {
     "name": "stdout",
     "output_type": "stream",
     "text": [
      "Gravity Facts About Marte  & The Ganímedes\n",
      " --------------------\n",
      "Planet Name : Marte \n",
      "Gravity on Ganímedes: 1.4300000000000002 m/s2\n",
      "\n",
      "\n"
     ]
    }
   ],
   "source": [
    "# Ahora usa información de una luna diferente para ver si la plantilla todavía funciona.\n",
    "# Datos muestra:\n",
    "\n",
    "planet = 'Marte '\n",
    "gravity  = 0.00143\n",
    "name = 'Ganímedes'\n",
    "\n",
    "# Comprueba la plantilla\n",
    "# print(nombre_plantilla)\n",
    "\n",
    "titulo = \"gravity facts about {0} & the {1}\".format(planet, name)\n",
    "\n",
    "sep = f\"\"\" --------------------\n",
    "Planet Name : {planet}\n",
    "Gravity on {name}: {gravity * 1000} m/s2\n",
    "\"\"\"\n",
    "\n",
    "union = f\"\"\"{titulo.title()}\\n{sep}\n",
    "\"\"\"\n",
    "print (union)"
   ]
  },
  {
   "cell_type": "markdown",
   "metadata": {},
   "source": [
    "\"La salida no muestra información sobre Marte. Todavía muestra información sobre la Luna. Esto sucede porque las cadenas f están ansiosas en su evaluación, por lo que las variables una vez asignadas no se pueden reasignar. Para evitar este problema, vuelva a hacer la plantilla para utilizar .format()\"\n",
    "\n",
    "Observación: no me apareció ese error que comentan, creo que utilicé los métodos de otra forma y aunque el resultado quedó similar después analicé sus respuestas y aprendí muchas cosas nuevas sobre el formato de cadenas.\n"
   ]
  }
 ],
 "metadata": {
  "interpreter": {
   "hash": "ac59ebe37160ed0dfa835113d9b8498d9f09ceb179beaac4002f036b9467c963"
  },
  "kernelspec": {
   "display_name": "Python 3.9.10 64-bit",
   "language": "python",
   "name": "python3"
  },
  "language_info": {
   "codemirror_mode": {
    "name": "ipython",
    "version": 3
   },
   "file_extension": ".py",
   "mimetype": "text/x-python",
   "name": "python",
   "nbconvert_exporter": "python",
   "pygments_lexer": "ipython3",
   "version": "3.9.10"
  },
  "orig_nbformat": 4
 },
 "nbformat": 4,
 "nbformat_minor": 2
}
